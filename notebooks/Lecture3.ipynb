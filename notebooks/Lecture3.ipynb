{
 "metadata": {
  "name": "",
  "signature": "sha256:bc8f28ed9deaaf92201c3adb400c94f28d6ab3c2ecad43bfaa865fe8bbd92b74"
 },
 "nbformat": 3,
 "nbformat_minor": 0,
 "worksheets": [
  {
   "cells": [
    {
     "cell_type": "markdown",
     "metadata": {},
     "source": [
      "# Lecture 3\n",
      "\n",
      "In this lecture we move onto non-homogeneous second-order ordinary differentials. We want to solve equations of the form\n",
      "\n",
      "$$\n",
      "a \\frac{d^{2}y}{dx^{2}} + b \\frac{dy}{dx} + c y = f(x)\n",
      "$$\n",
      "\n",
      "where $a$, $b$ and $c$ are real constants. We've seem previously that for the case $b^{2} \\ne 4ac$ and\n",
      "$f(x) = 0$, the general solution to the above equation is \n",
      "\n",
      "$$\n",
      "y = A_{1} e^{\\lambda_{1}} + A_{2}e^{\\lambda_{2}}\n",
      "$$\n",
      "\n",
      "where $\\lambda$ are the roots to the characteristic equation $a\\lambda^{2} + b \\lambda + c = 0$. For the case that $b^{2} = 4ac$ (repeated roots), the general solution is of the form\n",
      "\n",
      "$$\n",
      "y =(A_{1} + A_{2} x) e^{\\lambda x}\n",
      "$$\n",
      "\n",
      "Recall that the constants $A_{1}$ and $A_{2}$ are determined from the boundary conditions."
     ]
    },
    {
     "cell_type": "markdown",
     "metadata": {},
     "source": [
      "### Initialising SymPy\n",
      "\n",
      "To solve equations using SymPy, we again need to import SymPy, and we;ll call `init_printing()` to get nicely typeset equations:"
     ]
    },
    {
     "cell_type": "code",
     "collapsed": false,
     "input": [
      "from sympy import *\n",
      "\n",
      "# This initialises pretty printing\n",
      "init_printing()\n",
      "from IPython.display import display\n",
      "\n",
      "# This command makes plots appear inside the browser window\n",
      "%matplotlib inline"
     ],
     "language": "python",
     "metadata": {},
     "outputs": [],
     "prompt_number": 1
    },
    {
     "cell_type": "markdown",
     "metadata": {},
     "source": [
      "## Mass-spring-damper system\n",
      "\n",
      "The differential equation that governs a single degree-of-freedom mass-spring-damper system, with a forcing term $f(t)$, is\n",
      "\n",
      "$$\n",
      "m \\frac{d^{2}y}{dt^{2}} + \\lambda \\frac{dy}{dt} + ky = f(t)\n",
      "$$\n",
      "\n",
      "To solve this problem using SymPy, we first define the symbols $t$ (time), $m$ (mass), $\\lambda$ (damper coefficient) and $k$ (spring stiffness), and the function $y$ (displacement): "
     ]
    },
    {
     "cell_type": "code",
     "collapsed": false,
     "input": [
      "t, m, lmbda, k = symbols(\"t m lambda k\")\n",
      "y = Function(\"y\")\n",
      "f = Function(\"f\")"
     ],
     "language": "python",
     "metadata": {},
     "outputs": [],
     "prompt_number": 2
    },
    {
     "cell_type": "markdown",
     "metadata": {},
     "source": [
      "Next, we define the differential equation, and print it to the screen:"
     ]
    },
    {
     "cell_type": "code",
     "collapsed": false,
     "input": [
      "eqn = Eq(m*Derivative(y(t), t, t) + lmbda*Derivative(y(t), t) + k*y(t), f(t))\n",
      "display(eqn)"
     ],
     "language": "python",
     "metadata": {},
     "outputs": [
      {
       "latex": [
        "$$k y{\\left (t \\right )} + \\lambda \\frac{d}{d t} y{\\left (t \\right )} + m \\frac{d^{2}}{d t^{2}}  y{\\left (t \\right )} = f{\\left (t \\right )}$$"
       ],
       "metadata": {},
       "output_type": "display_data",
       "png": "[encoded data removed]",
       "text": [
        "                          2             \n",
        "           d             d              \n",
        "k\u22c5y(t) + \u03bb\u22c5\u2500\u2500(y(t)) + m\u22c5\u2500\u2500\u2500(y(t)) = f(t)\n",
        "           dt             2             \n",
        "                        dt              "
       ]
      }
     ],
     "prompt_number": 3
    },
    {
     "cell_type": "markdown",
     "metadata": {},
     "source": [
      "## Classifying the ODE\n",
      "\n",
      "Checking the order of the ODE:"
     ]
    },
    {
     "cell_type": "code",
     "collapsed": false,
     "input": [
      "print(\"This order of the ODE is: {}\".format(ode_order(eqn, y(t))))"
     ],
     "language": "python",
     "metadata": {},
     "outputs": [
      {
       "output_type": "stream",
       "stream": "stdout",
       "text": [
        "This order of the ODE is: 2\n"
       ]
      }
     ],
     "prompt_number": 4
    },
    {
     "cell_type": "markdown",
     "metadata": {},
     "source": [
      "As expected, it is second order. Now classifying the ODE:"
     ]
    },
    {
     "cell_type": "code",
     "collapsed": false,
     "input": [
      "print(\"Properties of the ODE are: {}\".format(classify_ode(eqn)))"
     ],
     "language": "python",
     "metadata": {},
     "outputs": [
      {
       "output_type": "stream",
       "stream": "stdout",
       "text": [
        "Properties of the ODE are: ('nth_linear_constant_coeff_variation_of_parameters', 'nth_linear_constant_coeff_variation_of_parameters_Integral')\n"
       ]
      }
     ],
     "prompt_number": 5
    },
    {
     "cell_type": "markdown",
     "metadata": {},
     "source": [
      "## Solving the ODE\n",
      "\n",
      "We can now try to solve the ODE symbolically, but without defining $f(t)$ the result will be umanageble. Sympy will return a solution but it will too complicated to interpret.\n",
      "\n",
      "We will therefore specify some of the parameters in the equation:"
     ]
    },
    {
     "cell_type": "code",
     "collapsed": false,
     "input": [
      "m0, lmbda0, k0 = 4, 1, 16\n",
      "eqn1 = eqn.subs(m, m0).subs(k, k0).subs(lmbda, lmbda0)\n",
      "\n",
      "dsolve(eqn1)"
     ],
     "language": "python",
     "metadata": {},
     "outputs": [
      {
       "latex": [
        "$$y{\\left (t \\right )} = \\frac{1}{\\sqrt[8]{e^{t}}} \\left(\\left(C_{1} - \\frac{1}{4} \\int \\frac{8 \\sqrt{255}}{255} f{\\left (t \\right )} e^{\\frac{t}{8}} \\sin{\\left (\\frac{\\sqrt{255} t}{8} \\right )}\\, dt\\right) \\cos{\\left (\\frac{\\sqrt{255} t}{8} \\right )} + \\left(C_{2} + \\frac{1}{4} \\int \\frac{8 \\sqrt{255}}{255} f{\\left (t \\right )} e^{\\frac{t}{8}} \\cos{\\left (\\frac{\\sqrt{255} t}{8} \\right )}\\, dt\\right) \\sin{\\left (\\frac{\\sqrt{255} t}{8} \\right )}\\right)$$"
       ],
       "metadata": {},
       "output_type": "pyout",
       "png": "[encoded data removed]",
       "prompt_number": 6,
       "text": [
        "       \u239b     \u2320                                    \u239e                  \u239b     \u2320  \n",
        "       \u239c     \u23ae                 t                  \u239f                  \u239c     \u23ae  \n",
        "       \u239c     \u23ae                 \u2500    \u239b  _____  \u239e   \u239f                  \u239c     \u23ae  \n",
        "       \u239c     \u23ae     _____       8    \u239c\u2572\u2571 255 \u22c5t\u239f   \u239f                  \u239c     \u23ae  \n",
        "       \u239c     \u23ae 8\u22c5\u2572\u2571 255 \u22c5f(t)\u22c5\u212f \u22c5sin\u239c\u2500\u2500\u2500\u2500\u2500\u2500\u2500\u2500\u2500\u239f   \u239f                  \u239c     \u23ae 8\n",
        "       \u239c     \u23ae                      \u239d    8    \u23a0   \u239f                  \u239c     \u23ae  \n",
        "       \u239c     \u23ae \u2500\u2500\u2500\u2500\u2500\u2500\u2500\u2500\u2500\u2500\u2500\u2500\u2500\u2500\u2500\u2500\u2500\u2500\u2500\u2500\u2500\u2500\u2500\u2500\u2500\u2500\u2500\u2500\u2500\u2500\u2500\u2500 dt\u239f                  \u239c     \u23ae \u2500\n",
        "       \u239c     \u23ae               255                  \u239f    \u239b  _____  \u239e   \u239c     \u23ae  \n",
        "       \u239c     \u2321                                    \u239f    \u239c\u2572\u2571 255 \u22c5t\u239f   \u239c     \u2321  \n",
        "       \u239cC\u2081 - \u2500\u2500\u2500\u2500\u2500\u2500\u2500\u2500\u2500\u2500\u2500\u2500\u2500\u2500\u2500\u2500\u2500\u2500\u2500\u2500\u2500\u2500\u2500\u2500\u2500\u2500\u2500\u2500\u2500\u2500\u2500\u2500\u2500\u2500\u2500\u2500\u2500\u239f\u22c5cos\u239c\u2500\u2500\u2500\u2500\u2500\u2500\u2500\u2500\u2500\u239f + \u239cC\u2082 + \u2500\u2500\u2500\n",
        "       \u239d                       4                  \u23a0    \u239d    8    \u23a0   \u239d        \n",
        "y(t) = \u2500\u2500\u2500\u2500\u2500\u2500\u2500\u2500\u2500\u2500\u2500\u2500\u2500\u2500\u2500\u2500\u2500\u2500\u2500\u2500\u2500\u2500\u2500\u2500\u2500\u2500\u2500\u2500\u2500\u2500\u2500\u2500\u2500\u2500\u2500\u2500\u2500\u2500\u2500\u2500\u2500\u2500\u2500\u2500\u2500\u2500\u2500\u2500\u2500\u2500\u2500\u2500\u2500\u2500\u2500\u2500\u2500\u2500\u2500\u2500\u2500\u2500\u2500\u2500\u2500\u2500\u2500\u2500\u2500\u2500\u2500\n",
        "                                                                   ____       \n",
        "                                                                8 \u2571  t        \n",
        "                                                                \u2572\u2571  \u212f         \n",
        "\n",
        "                                  \u239e               \n",
        "               t                  \u239f               \n",
        "               \u2500    \u239b  _____  \u239e   \u239f               \n",
        "   _____       8    \u239c\u2572\u2571 255 \u22c5t\u239f   \u239f               \n",
        "\u22c5\u2572\u2571 255 \u22c5f(t)\u22c5\u212f \u22c5cos\u239c\u2500\u2500\u2500\u2500\u2500\u2500\u2500\u2500\u2500\u239f   \u239f               \n",
        "                    \u239d    8    \u23a0   \u239f               \n",
        "\u2500\u2500\u2500\u2500\u2500\u2500\u2500\u2500\u2500\u2500\u2500\u2500\u2500\u2500\u2500\u2500\u2500\u2500\u2500\u2500\u2500\u2500\u2500\u2500\u2500\u2500\u2500\u2500\u2500\u2500\u2500 dt\u239f               \n",
        "             255                  \u239f    \u239b  _____  \u239e\n",
        "                                  \u239f    \u239c\u2572\u2571 255 \u22c5t\u239f\n",
        "\u2500\u2500\u2500\u2500\u2500\u2500\u2500\u2500\u2500\u2500\u2500\u2500\u2500\u2500\u2500\u2500\u2500\u2500\u2500\u2500\u2500\u2500\u2500\u2500\u2500\u2500\u2500\u2500\u2500\u2500\u2500\u2500\u2500\u2500\u239f\u22c5sin\u239c\u2500\u2500\u2500\u2500\u2500\u2500\u2500\u2500\u2500\u239f\n",
        "               4                  \u23a0    \u239d    8    \u23a0\n",
        "\u2500\u2500\u2500\u2500\u2500\u2500\u2500\u2500\u2500\u2500\u2500\u2500\u2500\u2500\u2500\u2500\u2500\u2500\u2500\u2500\u2500\u2500\u2500\u2500\u2500\u2500\u2500\u2500\u2500\u2500\u2500\u2500\u2500\u2500\u2500\u2500\u2500\u2500\u2500\u2500\u2500\u2500\u2500\u2500\u2500\u2500\u2500\u2500\u2500\u2500\n",
        "                                                  \n",
        "                                                  \n",
        "                                                  "
       ]
      }
     ],
     "prompt_number": 6
    },
    {
     "cell_type": "markdown",
     "metadata": {},
     "source": [
      "The solution is looking more manageable, but we still haven't specified $f(t)$. Setting $f(t) = 2$ and then solving,"
     ]
    },
    {
     "cell_type": "code",
     "collapsed": false,
     "input": [
      "eqn1 = eqn1.subs(f(t), 2)\n",
      "print(\"ODE with f(t) = 2\")\n",
      "display(eqn1)\n",
      "\n",
      "ys = dsolve(eqn1, y(t))\n",
      "print(\"Solution to ODE:\")\n",
      "display(ys)"
     ],
     "language": "python",
     "metadata": {},
     "outputs": [
      {
       "output_type": "stream",
       "stream": "stdout",
       "text": [
        "ODE with f(t) = 2\n"
       ]
      },
      {
       "latex": [
        "$$16 y{\\left (t \\right )} + \\frac{d}{d t} y{\\left (t \\right )} + 4 \\frac{d^{2}}{d t^{2}}  y{\\left (t \\right )} = 2$$"
       ],
       "metadata": {},
       "output_type": "display_data",
       "png": "[encoded data removed]",
       "text": [
        "                         2          \n",
        "          d             d           \n",
        "16\u22c5y(t) + \u2500\u2500(y(t)) + 4\u22c5\u2500\u2500\u2500(y(t)) = 2\n",
        "          dt             2          \n",
        "                       dt           "
       ]
      },
      {
       "output_type": "stream",
       "stream": "stdout",
       "text": [
        "Solution to ODE:\n"
       ]
      },
      {
       "latex": [
        "$$y{\\left (t \\right )} = \\frac{1}{\\sqrt[8]{e^{t}}} \\left(C_{1} \\sin{\\left (\\frac{\\sqrt{255} t}{8} \\right )} + C_{2} \\cos{\\left (\\frac{\\sqrt{255} t}{8} \\right )}\\right) + \\frac{1}{8}$$"
       ],
       "metadata": {},
       "output_type": "display_data",
       "png": "[encoded data removed]",
       "text": [
        "             \u239b  _____  \u239e         \u239b  _____  \u239e    \n",
        "             \u239c\u2572\u2571 255 \u22c5t\u239f         \u239c\u2572\u2571 255 \u22c5t\u239f    \n",
        "       C\u2081\u22c5sin\u239c\u2500\u2500\u2500\u2500\u2500\u2500\u2500\u2500\u2500\u239f + C\u2082\u22c5cos\u239c\u2500\u2500\u2500\u2500\u2500\u2500\u2500\u2500\u2500\u239f    \n",
        "             \u239d    8    \u23a0         \u239d    8    \u23a0   1\n",
        "y(t) = \u2500\u2500\u2500\u2500\u2500\u2500\u2500\u2500\u2500\u2500\u2500\u2500\u2500\u2500\u2500\u2500\u2500\u2500\u2500\u2500\u2500\u2500\u2500\u2500\u2500\u2500\u2500\u2500\u2500\u2500\u2500\u2500\u2500\u2500\u2500\u2500\u2500 + \u2500\n",
        "                         ____                  8\n",
        "                      8 \u2571  t                    \n",
        "                      \u2572\u2571  \u212f                     "
       ]
      }
     ],
     "prompt_number": 7
    },
    {
     "cell_type": "markdown",
     "metadata": {},
     "source": [
      "The solution is now looking tractable. If we set $C_{1} = C_{2} = 1$, we can plot the solution. "
     ]
    },
    {
     "cell_type": "code",
     "collapsed": false,
     "input": [
      "ys = ys.subs('C1', 1).subs('C2', 1)\n",
      "plot(ys.args[1], (t, 0.0, 20.0), xlabel=\"time\", ylabel=\"displacement\")"
     ],
     "language": "python",
     "metadata": {},
     "outputs": [
      {
       "metadata": {},
       "output_type": "display_data",
       "png": "[encoded data removed]",
       "text": [
        "<matplotlib.figure.Figure at 0x7f4e08c1ec90>"
       ]
      },
      {
       "metadata": {},
       "output_type": "pyout",
       "prompt_number": 8,
       "text": [
        "<sympy.plotting.plot.Plot at 0x7f4e0943da50>"
       ]
      }
     ],
     "prompt_number": 8
    },
    {
     "cell_type": "markdown",
     "metadata": {},
     "source": [
      "We can see the that the solution is a decaying sinusoidal function."
     ]
    },
    {
     "cell_type": "markdown",
     "metadata": {},
     "source": [
      "### Exercise: \n",
      "\n",
      "Try changing the values for $m$, $\\lambda$ and $k$ to investigate their influence in the response. You can try negative values, but only positive values are physically possible."
     ]
    },
    {
     "cell_type": "markdown",
     "metadata": {},
     "source": [
      "### Exercise:\n",
      "\n",
      "Try changing $f(t)$ to explore the response for different forcing functions."
     ]
    },
    {
     "cell_type": "markdown",
     "metadata": {},
     "source": [
      "### Example: resonance\n",
      "\n",
      "An undamped system ($\\lambda = 0$) changes character when the forcing term is sinusoidal at the natural frequency of the system. The corresponds to the case of the forcing term having the same form as the solution to the homogeneous problem.\n",
      "\n",
      "The natural frequency $\\omega_{n} = \\sqrt{k/m}$. Setting $f(t) = \\sin( \\omega x)$\n"
     ]
    },
    {
     "cell_type": "code",
     "collapsed": false,
     "input": [
      "# Define natural frequency\n",
      "omega = Symbol(\"omega\")\n",
      "omega = sqrt(k/m)\n",
      "\n",
      "# Set f(t) = sin(\\omega t)\n",
      "eqn1 = eqn.subs(f(t), sin(omega*t))\n",
      "display(eqn1)"
     ],
     "language": "python",
     "metadata": {},
     "outputs": [
      {
       "latex": [
        "$$k y{\\left (t \\right )} + \\lambda \\frac{d}{d t} y{\\left (t \\right )} + m \\frac{d^{2}}{d t^{2}}  y{\\left (t \\right )} = \\sin{\\left (t \\sqrt{\\frac{k}{m}} \\right )}$$"
       ],
       "metadata": {},
       "output_type": "display_data",
       "png": "[encoded data removed]",
       "text": [
        "                          2            \u239b      ___\u239e\n",
        "           d             d             \u239c     \u2571 k \u239f\n",
        "k\u22c5y(t) + \u03bb\u22c5\u2500\u2500(y(t)) + m\u22c5\u2500\u2500\u2500(y(t)) = sin\u239ct\u22c5  \u2571  \u2500 \u239f\n",
        "           dt             2            \u239d  \u2572\u2571   m \u23a0\n",
        "                        dt                        "
       ]
      }
     ],
     "prompt_number": 9
    },
    {
     "cell_type": "markdown",
     "metadata": {},
     "source": [
      "We now set values for $m$, $\\lambda$ and $k$ (we'll set $\\lambda = 0$ which corresponds to an undamped system):"
     ]
    },
    {
     "cell_type": "code",
     "collapsed": false,
     "input": [
      "# Set numerical values for m, lambda and k\n",
      "m0, lmbda0, k0 = 4, 0, 1\n",
      "eqn1 = eqn1.subs(m, m0).subs(k, k0).subs(lmbda, lmbda0)\n",
      "\n",
      "# Solve ODE\n",
      "display(eqn1)\n",
      "y = dsolve(eqn1)\n",
      "display(y)"
     ],
     "language": "python",
     "metadata": {},
     "outputs": [
      {
       "latex": [
        "$$y{\\left (t \\right )} + 4 \\frac{d^{2}}{d t^{2}}  y{\\left (t \\right )} = \\sin{\\left (\\frac{t}{2} \\right )}$$"
       ],
       "metadata": {},
       "output_type": "display_data",
       "png": "[encoded data removed]",
       "text": [
        "           2               \n",
        "          d             \u239bt\u239e\n",
        "y(t) + 4\u22c5\u2500\u2500\u2500(y(t)) = sin\u239c\u2500\u239f\n",
        "           2            \u239d2\u23a0\n",
        "         dt                "
       ]
      },
      {
       "latex": [
        "$$y{\\left (t \\right )} = C_{2} \\sin{\\left (\\frac{t}{2} \\right )} + \\left(C_{1} - \\frac{t}{4}\\right) \\cos{\\left (\\frac{t}{2} \\right )}$$"
       ],
       "metadata": {},
       "output_type": "display_data",
       "png": "[encoded data removed]",
       "text": [
        "             \u239bt\u239e   \u239b     t\u239e    \u239bt\u239e\n",
        "y(t) = C\u2082\u22c5sin\u239c\u2500\u239f + \u239cC\u2081 - \u2500\u239f\u22c5cos\u239c\u2500\u239f\n",
        "             \u239d2\u23a0   \u239d     4\u23a0    \u239d2\u23a0"
       ]
      }
     ],
     "prompt_number": 10
    },
    {
     "cell_type": "markdown",
     "metadata": {},
     "source": [
      "Note the presence of $t$ in front of the cosine. This implies that the solution will grow linearly in time. We can see this by plotting the solution:"
     ]
    },
    {
     "cell_type": "code",
     "collapsed": false,
     "input": [
      "y = y.subs('C1', 1).subs('C2', 1)\n",
      "plot(y.args[1], (t, 0.0, 100.0), xlabel=\"time\", ylabel=\"displacement\")"
     ],
     "language": "python",
     "metadata": {},
     "outputs": [
      {
       "metadata": {},
       "output_type": "display_data",
       "png": "[encoded data removed]",
       "text": [
        "<matplotlib.figure.Figure at 0x7f4e08860310>"
       ]
      },
      {
       "metadata": {},
       "output_type": "pyout",
       "prompt_number": 11,
       "text": [
        "<sympy.plotting.plot.Plot at 0x7f4e08be7390>"
       ]
      }
     ],
     "prompt_number": 11
    },
    {
     "cell_type": "markdown",
     "metadata": {},
     "source": [
      "We observe that the solution grows in time - this is a feature of resonance."
     ]
    },
    {
     "cell_type": "markdown",
     "metadata": {},
     "source": [
      "### Example: Interactive control for the natural frequency of the mass-spring-damper system"
     ]
    },
    {
     "cell_type": "markdown",
     "metadata": {},
     "source": [
      "####NOTE: This will not run on the online IPython Noteboook Viewer. You would need IPython 2.3.1 and run this cell locally for the interactive to work. \n",
      "\n",
      "The equation for the mass-spring-damper system above can be rewritten in terms of damping $\\zeta$ and natural frequency $\\omega_{n}$ as belowed:\n",
      "\n",
      "$$ \\frac{d^{2}y}{dt^{2}} + 2\\zeta\\omega_{n}\\frac{dy}{dt} + \\omega_{n}^2y = 0$$\n",
      "\n",
      "which gives rise to three different solutions, whether the system is under-damped, critically damped or over-damped. \n",
      "\n",
      "The values of $\\omega_{n}$ and $\\zeta$ are defined as below, from the original mass-spring system:\n",
      "\n",
      "$$ \n",
      "\\omega_{n} = \\sqrt{\\frac{k}{m}}\n",
      "$$\n",
      "$$\n",
      "\\zeta = \\frac{\\lambda }{2 \\sqrt{mk}}\n",
      "$$\n",
      "\n",
      "The interactive widget belows provides the visualisation between the changes of $m, k, \\lambda$ on the final results.  \n"
     ]
    },
    {
     "cell_type": "code",
     "collapsed": false,
     "input": [
      "from sympy import *\n",
      "\n",
      "# Import the interactive function from IPython widgets\n",
      "from IPython.html.widgets import interact\n",
      "from IPython.html import widgets \n",
      "\n",
      "# This initialises pretty printing\n",
      "init_printing()\n",
      "from IPython.display import display\n",
      "%matplotlib inline \n",
      "\n",
      "# Declare modules nump\n",
      "from numpy import *\n",
      "from matplotlib.pyplot import *\n",
      "\n",
      "# Definie time limits and step. This gives a time limit from 0 to 500 with a step of 5.\n",
      "t = np.linspace(0,10,500)            \n",
      "\n",
      "# Define the initial conditions velocity = 0, position = 1\n",
      "y0 = [1.0, 0.0]\n",
      "\n",
      "# Set up the function that plots the repsonse based on slider changes\n",
      "# These values of m, k and lambda here are in SI units. m in kg, k in N/m and lambda in Ns/m\n",
      "\n",
      "def plot_response(m = 5, k = 4, lmbda = 0.0):\n",
      "   \n",
      "    # Calculate and print out values of omega_n and zeta\n",
      "    omega_n = sqrt(k/m)\n",
      "    zeta = lmbda/(2*sqrt(m*k))\n",
      "    print \"Natural frequency is\",omega_n\n",
      "    print \"Damping ratio is\",zeta\n",
      "    \n",
      "    # Define natural and damped frequency\n",
      "    omega_d = omega_n*sqrt(1-zeta**2)\n",
      "    \n",
      "    # Define y(t) based on different values of zeta\n",
      "    \n",
      "    if zeta < 1: # Under-damped\n",
      "        A = y0[0];\n",
      "        B = (1/omega_d)*(zeta*omega_n*y0[0] + y0[1])\n",
      "        y = exp(-zeta*omega_n*t)*(A*cos(omega_d*t) + B*sin(omega_d*t))\n",
      "    elif zeta == 1: # Critically damped\n",
      "        A = y0[0]\n",
      "        B = y0[1] + omega_n*y0[0]\n",
      "        y = (A + B*t)*exp(-omega_n*t)\n",
      "    elif zeta > 1: # Over-damped. root_p and root_n are the positive and negative solutions of the characteristic equations. \n",
      "        delta = (2*zeta*omega_n)**2 - 4*(omega_n**2)\n",
      "        root_p = (0.5)*(-2*zeta*omega_n + sqrt(delta))\n",
      "        root_n = (0.5)*(-2*zeta*omega_n - sqrt(delta))\n",
      "        A = y0[0] + (root_p*y0[0] - y0[1])/(root_n - root_p)\n",
      "        B = (-1)*(root_p*y0[0] - y0[1])/(root_n - root_p)\n",
      "        y = A*exp(root_p*t) + B*exp(root_n*t)\n",
      "        \n",
      "    \n",
      "    # Draw an label the figure window\n",
      "    ax = gca()\n",
      "    ax.grid(True,linestyle=':',color='0.5')\n",
      "    xlabel('Time (s)',fontsize=20,labelpad=5)\n",
      "    ylabel('Position (m)',fontsize=20,labelpad=10)\n",
      "    ylim(-1.2,1.2)\n",
      "    xlim(0,10)\n",
      "    \n",
      "    # Normalised value of y\n",
      "    y = y/y[0]\n",
      "    \n",
      "    # Plot the function on the figure\n",
      "    plot(t,y,color=\"red\",linewidth=1.5)\n",
      "   \n",
      "\n",
      "# Call the slider interaction\n",
      "interact(plot_response, m=(0,20, 0.1), k = (0,10,0.1), lmbda = (0,10,0.1))"
     ],
     "language": "python",
     "metadata": {},
     "outputs": [
      {
       "output_type": "stream",
       "stream": "stdout",
       "text": [
        "Natural frequency is 0.592348877759\n",
        "Damping ratio is 0.0\n"
       ]
      },
      {
       "metadata": {},
       "output_type": "display_data",
       "png": "[encoded data removed]",
       "text": [
        "<matplotlib.figure.Figure at 0x7f5e64c2bbd0>"
       ]
      }
     ],
     "prompt_number": 1
    },
    {
     "cell_type": "code",
     "collapsed": false,
     "input": [],
     "language": "python",
     "metadata": {},
     "outputs": [],
     "prompt_number": 12
    }
   ],
   "metadata": {}
  }
 ]
}